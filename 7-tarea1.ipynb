{
 "cells": [
  {
   "cell_type": "markdown",
   "metadata": {},
   "source": [
    "# Tarea Semana 1"
   ]
  },
  {
   "cell_type": "markdown",
   "metadata": {},
   "source": [
    "## A) Python"
   ]
  },
  {
   "cell_type": "markdown",
   "metadata": {},
   "source": [
    "1. Implemente una función que imprima los primeros n terminos de fibonacci\n",
    "\n",
    "```python\n",
    "fibonacci(5) # debe retornar 0,1,1,2,3\n",
    "\n",
    "fibonacci(5) # debe retornar 0,1,1,2,3,5,8,13,21,34,55\n",
    "\n",
    "# y así sucesivamente\n",
    "```\n",
    "\n",
    "2. Escribir un programa que reciba una cadena de caracteres y devuelva un diccionario con cada palabra que contiene y su frecuencia. Escribir otra función que reciba el diccionario generado con la función anterior y devuelva una tupla con la palabra más repetida y su frecuencia.\n"
   ]
  },
  {
   "cell_type": "markdown",
   "metadata": {},
   "source": [
    "## B) Pandas"
   ]
  },
  {
   "cell_type": "markdown",
   "metadata": {},
   "source": [
    "Utilizando el archivo `titanic.csv`\n",
    "\n",
    "1. Generar un DataFrame con los datos del fichero.\n",
    "2. Mostrar por pantalla las dimensiones del DataFrame, el número de datos que contiene, los nombres de sus columnas y filas, los tipos de datos de las columnas, las 10 primeras filas y las 10 últimas filas\n",
    "3. Mostrar por pantalla los datos del pasajero con identificador 148.\n",
    "4. Mostrar por pantalla los nombres de las personas que iban en primera clase.\n",
    "5. Añadir una nueva columna booleana para ver si el pasajero era menor de edad (18) o no.\n",
    "6. Cuál fué el precio del tiquete mas caro y del mas barato.\n",
    "7. Guarde el dataframe como un archivo xml.\n",
    "8. Si usted tuviera que adivinar quien sobrevivió, ¿a que columnas le prestaría atención?"
   ]
  },
  {
   "cell_type": "markdown",
   "metadata": {},
   "source": [
    "## C) Opcional"
   ]
  },
  {
   "cell_type": "code",
   "execution_count": 4,
   "metadata": {},
   "outputs": [
    {
     "data": {
      "image/png": "[encoded data removed]",
      "text/plain": [
       "<Figure size 432x288 with 1 Axes>"
      ]
     },
     "metadata": {
      "needs_background": "light"
     },
     "output_type": "display_data"
    }
   ],
   "source": [
    "import numpy as np\n",
    "import matplotlib.pyplot as plt\n",
    "\n",
    "X = np.array([-10,-9,-8,-7,-6,-5,-4,-3,-2,-1,0,1,2,3,4,5,6,7,8,9,10])\n",
    "\n",
    "y1 = np.array([-27, -30, -17, -20, -23, -10, -13, -16, -3, -6, 7, 4, 1, 14, 11, 8, 21, 18, 31, 28, 25])\n",
    "\n",
    "plt.plot(X,y1)\n",
    "plt.scatter(X,y1, c='orange')\n",
    "plt.show()"
   ]
  },
  {
   "cell_type": "code",
   "execution_count": null,
   "metadata": {},
   "outputs": [],
   "source": [
    "# Ejercicio Opcional:\n",
    "# Averigue la funcion que explica la relacion entre X & y1\n",
    "\n",
    "## CODIGO AQUI f(X) = y1, averigue f"
   ]
  }
 ],
 "metadata": {
  "kernelspec": {
   "display_name": "Python 3",
   "language": "python",
   "name": "python3"
  },
  "language_info": {
   "codemirror_mode": {
    "name": "ipython",
    "version": 3
   },
   "file_extension": ".py",
   "mimetype": "text/x-python",
   "name": "python",
   "nbconvert_exporter": "python",
   "pygments_lexer": "ipython3",
   "version": "3.8.5"
  }
 },
 "nbformat": 4,
 "nbformat_minor": 4
}
