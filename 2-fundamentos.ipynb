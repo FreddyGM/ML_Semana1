{
 "cells": [
  {
   "cell_type": "markdown",
   "metadata": {},
   "source": [
    "# Fundamentos de Programación con Python 3.7"
   ]
  },
  {
   "cell_type": "markdown",
   "metadata": {},
   "source": [
    "Python es un lenguaje de alto nivel, orientado a objetos e interpretado. Además, python es un lenguaje identado por lo tanto a diferencia de otros lenguajes como Java, C/C++; python no usa llaves `{}` sino que usa tabulaciones para indicar un bloque de código."
   ]
  },
  {
   "cell_type": "code",
   "execution_count": 1,
   "metadata": {},
   "outputs": [
    {
     "name": "stdout",
     "output_type": "stream",
     "text": [
      "Hello world!\n"
     ]
    }
   ],
   "source": [
    "print('Hello world!')"
   ]
  },
  {
   "cell_type": "markdown",
   "metadata": {},
   "source": [
    "## Variables, Cadenas y Números"
   ]
  },
  {
   "cell_type": "markdown",
   "metadata": {},
   "source": [
    "### Variables"
   ]
  },
  {
   "cell_type": "markdown",
   "metadata": {},
   "source": [
    "Una variable sirve para almacenar un valor."
   ]
  },
  {
   "cell_type": "code",
   "execution_count": 2,
   "metadata": {},
   "outputs": [
    {
     "name": "stdout",
     "output_type": "stream",
     "text": [
      "Hello Python world!\n"
     ]
    }
   ],
   "source": [
    "message = \"Hello Python world!\"\n",
    "print(message)"
   ]
  },
  {
   "cell_type": "markdown",
   "metadata": {},
   "source": [
    "Y este valor lo podemos cambiar en cualquier momento a lo largo del programa."
   ]
  },
  {
   "cell_type": "code",
   "execution_count": 3,
   "metadata": {},
   "outputs": [
    {
     "name": "stdout",
     "output_type": "stream",
     "text": [
      "Hello Python world!\n",
      "Python is my favorite language!\n"
     ]
    }
   ],
   "source": [
    "message = \"Hello Python world!\"\n",
    "print(message)\n",
    "\n",
    "message = \"Python is my favorite language!\"\n",
    "print(message)"
   ]
  },
  {
   "cell_type": "markdown",
   "metadata": {},
   "source": [
    "Los nombres de las variables deben respetar algunas reglas sencillas:\n",
    "* Solamente pueden contener letras, números o guióon bajo (underscore \\_). No pueden iniciar con un número.\n",
    "* No se permiten espacios.\n",
    "* Las variables son sensibles a las mayúsculas, lenguajeProgramacion no es lo mismo que LenguajeProgramacion\n",
    "* No podemos usar palabras reservadas tales como: if, while, for, def, class, ..."
   ]
  },
  {
   "cell_type": "markdown",
   "metadata": {},
   "source": [
    "### Strings"
   ]
  },
  {
   "cell_type": "markdown",
   "metadata": {},
   "source": [
    "Las Cadenas de Texto (strings) son sets de caracteres que se encuentran entre comillas simples o dobles."
   ]
  },
  {
   "cell_type": "code",
   "execution_count": 4,
   "metadata": {},
   "outputs": [],
   "source": [
    "my_string = \"This is a double-quoted string.\"\n",
    "my_string = 'This is a single-quoted string.'"
   ]
  },
  {
   "cell_type": "markdown",
   "metadata": {},
   "source": [
    "Existen muchas funciones disponibles para manipular cadenas de texto: por ejemplo Capitalizar, todo a mayúsculas, todo a minúsculas, ..."
   ]
  },
  {
   "cell_type": "code",
   "execution_count": 5,
   "metadata": {},
   "outputs": [
    {
     "name": "stdout",
     "output_type": "stream",
     "text": [
      "eric\n",
      "Eric\n",
      "ERIC\n",
      "eric\n"
     ]
    }
   ],
   "source": [
    "first_name = 'eric'\n",
    "\n",
    "print(first_name)\n",
    "print(first_name.title())\n",
    "print(first_name.upper())\n",
    "\n",
    "first_name = 'Eric'\n",
    "print(first_name.lower())"
   ]
  },
  {
   "cell_type": "markdown",
   "metadata": {},
   "source": [
    "A partir de este momento aparecerán acciones seguidas de el nombre de una variable y un punto. `variable_name.action()` A estas acciones se les llama métodos y se usan para modificar la variable que los llaman, por ejemplo los métodos title, upper y lower modifican a la variable first_name."
   ]
  },
  {
   "cell_type": "markdown",
   "metadata": {},
   "source": [
    "Combinar cadenas de texto es tan sencillo como sumarlas. A esta operación se le denomina concatenación."
   ]
  },
  {
   "cell_type": "code",
   "execution_count": 6,
   "metadata": {},
   "outputs": [
    {
     "name": "stdout",
     "output_type": "stream",
     "text": [
      "Ada Lovelace\n"
     ]
    }
   ],
   "source": [
    "first_name = 'ada'\n",
    "last_name = 'lovelace'\n",
    "\n",
    "full_name = first_name + ' ' + last_name\n",
    "\n",
    "print(full_name.title())"
   ]
  },
  {
   "cell_type": "markdown",
   "metadata": {},
   "source": [
    "Cuando necesiten incluir caracteres especiales dentro de las cadenas de texto se utiliza el backslash `\\`, algunas de las mas usadas son:"
   ]
  },
  {
   "cell_type": "code",
   "execution_count": 7,
   "metadata": {},
   "outputs": [
    {
     "name": "stdout",
     "output_type": "stream",
     "text": [
      "Hello \teveryone!\n"
     ]
    }
   ],
   "source": [
    "print(\"Hello \\teveryone!\")"
   ]
  },
  {
   "cell_type": "code",
   "execution_count": 8,
   "metadata": {},
   "outputs": [
    {
     "name": "stdout",
     "output_type": "stream",
     "text": [
      "Hello \n",
      "everyone!\n"
     ]
    }
   ],
   "source": [
    "print(\"Hello \\neveryone!\")"
   ]
  },
  {
   "cell_type": "code",
   "execution_count": 9,
   "metadata": {},
   "outputs": [
    {
     "name": "stdout",
     "output_type": "stream",
     "text": [
      "Hello 'everyone'! Hello \"everyone\"!\n"
     ]
    }
   ],
   "source": [
    "print(\"Hello 'everyone'!\", 'Hello \"everyone\"!')"
   ]
  },
  {
   "cell_type": "markdown",
   "metadata": {},
   "source": [
    "### Números Enteros"
   ]
  },
  {
   "cell_type": "code",
   "execution_count": 10,
   "metadata": {},
   "outputs": [
    {
     "name": "stdout",
     "output_type": "stream",
     "text": [
      "x+y= 5\n",
      "x-y= -1\n",
      "x*y= 6\n",
      "x/y= 0.6666666666666666\n",
      "x%y= 2\n",
      "x//y= 0\n",
      "x**y= 8\n"
     ]
    }
   ],
   "source": [
    "x = 2\n",
    "y = 3\n",
    "\n",
    "print(\"x+y=\", x+y)\n",
    "print(\"x-y=\", x-y)\n",
    "print(\"x*y=\", x*y)\n",
    "print(\"x/y=\", x/y)\n",
    "print(\"x%y=\", x%y)\n",
    "print(\"x//y=\", x//y)\n",
    "print(\"x**y=\", x**y)"
   ]
  },
  {
   "cell_type": "markdown",
   "metadata": {},
   "source": [
    "### Números de Punto Flotante"
   ]
  },
  {
   "cell_type": "markdown",
   "metadata": {},
   "source": [
    "Los números con punto flotante se refieren a todos aquellos con decimales."
   ]
  },
  {
   "cell_type": "code",
   "execution_count": 11,
   "metadata": {},
   "outputs": [
    {
     "name": "stdout",
     "output_type": "stream",
     "text": [
      "0.2\n"
     ]
    }
   ],
   "source": [
    "print(0.1+0.1)"
   ]
  },
  {
   "cell_type": "code",
   "execution_count": 12,
   "metadata": {},
   "outputs": [
    {
     "name": "stdout",
     "output_type": "stream",
     "text": [
      "0.30000000000000004\n"
     ]
    }
   ],
   "source": [
    "print(0.1+0.2)"
   ]
  },
  {
   "cell_type": "markdown",
   "metadata": {},
   "source": [
    "### Comentarios"
   ]
  },
  {
   "cell_type": "markdown",
   "metadata": {},
   "source": [
    "Cuando nuestro código se empieza a hacer mas grande y necesitamos una manera de explicar o recordar que tarea realizaba cierto bloque de código, como se comportaba una función, ... Los comentarios en Python se escriben después del simbolo `#`"
   ]
  },
  {
   "cell_type": "code",
   "execution_count": 13,
   "metadata": {},
   "outputs": [
    {
     "name": "stdout",
     "output_type": "stream",
     "text": [
      "This line is not a comment, it is code.\n"
     ]
    }
   ],
   "source": [
    "# This line is a comment.\n",
    "print(\"This line is not a comment, it is code.\")"
   ]
  },
  {
   "cell_type": "markdown",
   "metadata": {},
   "source": [
    "Un buen comentario:\n",
    "* Es corto y consiso.\n",
    "* Explica lo que el programador pensaba cuando lo programó.\n",
    "* Permite a cualquiera entender el código.\n",
    "\n",
    "Debemos escribir comentarios cuando:\n",
    "* Dedicamos tiempo a pensar una solución.\n",
    "* El código será compartido con otras personas.\n",
    "* Si el código podría pasar mucho tiempo sin ser visto.\n",
    "* Existe mas de una solución a un problema."
   ]
  },
  {
   "cell_type": "code",
   "execution_count": 14,
   "metadata": {},
   "outputs": [
    {
     "name": "stdout",
     "output_type": "stream",
     "text": [
      "The Zen of Python, by Tim Peters\n",
      "\n",
      "Beautiful is better than ugly.\n",
      "Explicit is better than implicit.\n",
      "Simple is better than complex.\n",
      "Complex is better than complicated.\n",
      "Flat is better than nested.\n",
      "Sparse is better than dense.\n",
      "Readability counts.\n",
      "Special cases aren't special enough to break the rules.\n",
      "Although practicality beats purity.\n",
      "Errors should never pass silently.\n",
      "Unless explicitly silenced.\n",
      "In the face of ambiguity, refuse the temptation to guess.\n",
      "There should be one-- and preferably only one --obvious way to do it.\n",
      "Although that way may not be obvious at first unless you're Dutch.\n",
      "Now is better than never.\n",
      "Although never is often better than *right* now.\n",
      "If the implementation is hard to explain, it's a bad idea.\n",
      "If the implementation is easy to explain, it may be a good idea.\n",
      "Namespaces are one honking great idea -- let's do more of those!\n"
     ]
    }
   ],
   "source": [
    "import this"
   ]
  },
  {
   "cell_type": "markdown",
   "metadata": {},
   "source": [
    "## Listas y Tuplas"
   ]
  },
  {
   "cell_type": "markdown",
   "metadata": {},
   "source": [
    "### Listas"
   ]
  },
  {
   "cell_type": "markdown",
   "metadata": {},
   "source": [
    "Las listas son colecciones de objetos que también pueden ser almacenadas en una variable. Y así como las variables pueden ser modificadas, cada uno de los elementos así como la lista entera pueden ser modificados."
   ]
  },
  {
   "cell_type": "code",
   "execution_count": 15,
   "metadata": {},
   "outputs": [
    {
     "name": "stdout",
     "output_type": "stream",
     "text": [
      "Hello, Bernice!\n",
      "Hello, Aaron!\n",
      "Hello, Cody!\n"
     ]
    }
   ],
   "source": [
    "students = ['bernice', 'aaron', 'cody']\n",
    "\n",
    "for student in students:\n",
    "    print(\"Hello, \" + student.title() + \"!\")"
   ]
  },
  {
   "cell_type": "code",
   "execution_count": 16,
   "metadata": {},
   "outputs": [],
   "source": [
    "dogs = ['border collie', 'australian cattle dog', 'labrador retriever']"
   ]
  },
  {
   "cell_type": "markdown",
   "metadata": {},
   "source": [
    "Para acceder a un elemento de la lista se utilizan los brackets y la posición del objeto que queremos obtener (iniciando desde 0)"
   ]
  },
  {
   "cell_type": "code",
   "execution_count": 17,
   "metadata": {},
   "outputs": [
    {
     "name": "stdout",
     "output_type": "stream",
     "text": [
      "border collie\n",
      "australian cattle dog\n",
      "labrador retriever\n"
     ]
    }
   ],
   "source": [
    "dogs = ['border collie', 'australian cattle dog', 'labrador retriever']\n",
    "\n",
    "dog = dogs[0]\n",
    "print(dog)\n",
    "\n",
    "dog = dogs[1]\n",
    "print(dog)\n",
    "\n",
    "dog = dogs[-1]\n",
    "print(dog)"
   ]
  },
  {
   "cell_type": "markdown",
   "metadata": {},
   "source": [
    "Para acceder a cada uno de los elementos de una lista podemos usar el ciclo `for`"
   ]
  },
  {
   "cell_type": "code",
   "execution_count": 18,
   "metadata": {},
   "outputs": [
    {
     "name": "stdout",
     "output_type": "stream",
     "text": [
      "border collie\n",
      "australian cattle dog\n",
      "labrador retriever\n"
     ]
    }
   ],
   "source": [
    "dogs = ['border collie', 'australian cattle dog', 'labrador retriever']\n",
    "\n",
    "for dog in dogs:\n",
    "    print(dog)"
   ]
  },
  {
   "cell_type": "markdown",
   "metadata": {},
   "source": [
    "Esto es extremadamente útil cuando queremos modificar, filtrar o limpiar los elementos de una lista. "
   ]
  },
  {
   "cell_type": "code",
   "execution_count": 19,
   "metadata": {},
   "outputs": [
    {
     "name": "stdout",
     "output_type": "stream",
     "text": [
      "I like border collies.\n",
      "I like australian cattle dogs.\n",
      "I like labrador retrievers.\n"
     ]
    }
   ],
   "source": [
    "dogs = ['border collie', 'australian cattle dog', 'labrador retriever']\n",
    "\n",
    "for dog in dogs:\n",
    "    print('I like ' + dog + 's.')"
   ]
  },
  {
   "cell_type": "markdown",
   "metadata": {},
   "source": [
    "La función `enumerate()` nos permite no solo obtener cada uno de los elementos de la lista sino que también su índice"
   ]
  },
  {
   "cell_type": "code",
   "execution_count": 20,
   "metadata": {},
   "outputs": [
    {
     "name": "stdout",
     "output_type": "stream",
     "text": [
      "Results for the dog show are as follows:\n",
      "\n",
      "Place: 0 Dog: Border Collie\n",
      "Place: 1 Dog: Australian Cattle Dog\n",
      "Place: 2 Dog: Labrador Retriever\n"
     ]
    }
   ],
   "source": [
    "dogs = ['border collie', 'australian cattle dog', 'labrador retriever']\n",
    "\n",
    "print(\"Results for the dog show are as follows:\\n\")\n",
    "for index, dog in enumerate(dogs):\n",
    "    place = str(index)\n",
    "    print(\"Place: \" + place + \" Dog: \" + dog.title())"
   ]
  },
  {
   "cell_type": "markdown",
   "metadata": {},
   "source": [
    "Algunas de las operaciones mas comunes de listas son:"
   ]
  },
  {
   "cell_type": "code",
   "execution_count": 21,
   "metadata": {},
   "outputs": [
    {
     "name": "stdout",
     "output_type": "stream",
     "text": [
      "['australian shepherd', 'australian cattle dog', 'labrador retriever']\n"
     ]
    }
   ],
   "source": [
    "# Modificar elementos de una lista\n",
    "\n",
    "dogs = ['border collie', 'australian cattle dog', 'labrador retriever']\n",
    "\n",
    "dogs[0] = 'australian shepherd'\n",
    "print(dogs)"
   ]
  },
  {
   "cell_type": "code",
   "execution_count": 22,
   "metadata": {},
   "outputs": [
    {
     "name": "stdout",
     "output_type": "stream",
     "text": [
      "1\n"
     ]
    }
   ],
   "source": [
    "# Encontrar un elemento dentro de una lista\n",
    "\n",
    "dogs = ['border collie', 'australian cattle dog', 'labrador retriever']\n",
    "\n",
    "print(dogs.index('australian cattle dog'))"
   ]
  },
  {
   "cell_type": "code",
   "execution_count": 23,
   "metadata": {},
   "outputs": [
    {
     "name": "stdout",
     "output_type": "stream",
     "text": [
      "True\n",
      "False\n"
     ]
    }
   ],
   "source": [
    "# Revisar si un elemento existe dentro de la lista\n",
    "\n",
    "dogs = ['border collie', 'australian cattle dog', 'labrador retriever']\n",
    "\n",
    "print('australian cattle dog' in dogs)\n",
    "print('poodle' in dogs)"
   ]
  },
  {
   "cell_type": "code",
   "execution_count": 24,
   "metadata": {},
   "outputs": [
    {
     "name": "stdout",
     "output_type": "stream",
     "text": [
      "Border Collies are cool.\n",
      "Australian Cattle Dogs are cool.\n",
      "Labrador Retrievers are cool.\n",
      "Poodles are cool.\n"
     ]
    }
   ],
   "source": [
    "# Agregar elementos a una lista\n",
    "\n",
    "dogs = ['border collie', 'australian cattle dog', 'labrador retriever']\n",
    "dogs.append('poodle')\n",
    "\n",
    "for dog in dogs:\n",
    "    print(dog.title() + \"s are cool.\")"
   ]
  },
  {
   "cell_type": "code",
   "execution_count": 25,
   "metadata": {},
   "outputs": [
    {
     "name": "stdout",
     "output_type": "stream",
     "text": [
      "['border collie', 'poodle', 'australian cattle dog', 'labrador retriever']\n"
     ]
    }
   ],
   "source": [
    "# Insertar elementos en una lista\n",
    "\n",
    "dogs = ['border collie', 'australian cattle dog', 'labrador retriever']\n",
    "dogs.insert(1, 'poodle')\n",
    "\n",
    "print(dogs)"
   ]
  },
  {
   "cell_type": "code",
   "execution_count": 26,
   "metadata": {},
   "outputs": [
    {
     "name": "stdout",
     "output_type": "stream",
     "text": [
      "Welcome, Bernice!\n",
      "Welcome, Cody!\n",
      "Welcome, Aaron!\n"
     ]
    }
   ],
   "source": [
    "# Las listas también pueden crearse vacías y agregar elemento por elemento\n",
    "\n",
    "usernames = []\n",
    "\n",
    "# Add some users.\n",
    "usernames.append('bernice')\n",
    "usernames.append('cody')\n",
    "usernames.append('aaron')\n",
    "\n",
    "# Greet all of our users.\n",
    "for username in usernames:\n",
    "    print(\"Welcome, \" + username.title() + '!')"
   ]
  },
  {
   "cell_type": "code",
   "execution_count": 27,
   "metadata": {},
   "outputs": [
    {
     "name": "stdout",
     "output_type": "stream",
     "text": [
      "Orden Alfabetico\n",
      "Australian Cattle Dog\n",
      "Border Collie\n",
      "Labrador Retriever\n",
      "\n",
      "Orden Inverso\n",
      "Labrador Retriever\n",
      "Border Collie\n",
      "Australian Cattle Dog\n"
     ]
    }
   ],
   "source": [
    "# Ordenar una lista\n",
    "\n",
    "dogs = ['border collie', 'australian cattle dog', 'labrador retriever']\n",
    "\n",
    "dogs.sort()\n",
    "print('Orden Alfabetico')\n",
    "for dog in dogs:\n",
    "    print(dog.title())\n",
    "    \n",
    "print()\n",
    "    \n",
    "dogs.sort(reverse=True)\n",
    "print('Orden Inverso')\n",
    "for dog in dogs:\n",
    "    print(dog.title())"
   ]
  },
  {
   "cell_type": "markdown",
   "metadata": {},
   "source": [
    "Todas las operaciones y métodos de las listas son aplicables también a listas de números."
   ]
  },
  {
   "cell_type": "code",
   "execution_count": 28,
   "metadata": {},
   "outputs": [
    {
     "name": "stdout",
     "output_type": "stream",
     "text": [
      "[1, 2, 3, 4]\n",
      "[4, 3, 2, 1]\n"
     ]
    }
   ],
   "source": [
    "numbers = [1, 3, 4, 2]\n",
    "\n",
    "numbers.sort()\n",
    "print(numbers)\n",
    "\n",
    "numbers.sort(reverse=True)\n",
    "print(numbers)"
   ]
  },
  {
   "cell_type": "code",
   "execution_count": 29,
   "metadata": {},
   "outputs": [
    {
     "name": "stdout",
     "output_type": "stream",
     "text": [
      "Hay 3 perros\n"
     ]
    }
   ],
   "source": [
    "# Encontrar el tamano de una lista (o de casi cualquier objeto en general)\n",
    "\n",
    "dogs = ['border collie', 'australian cattle dog', 'labrador retriever']\n",
    "\n",
    "print('Hay', len(dogs), 'perros')"
   ]
  },
  {
   "cell_type": "code",
   "execution_count": 30,
   "metadata": {},
   "outputs": [
    {
     "name": "stdout",
     "output_type": "stream",
     "text": [
      "['australian cattle dog', 'labrador retriever']\n"
     ]
    }
   ],
   "source": [
    "# Eliminar un elemento de una lista (por índice)\n",
    "\n",
    "dogs = ['border collie', 'australian cattle dog', 'labrador retriever']\n",
    "\n",
    "del dogs[0]\n",
    "\n",
    "print(dogs)"
   ]
  },
  {
   "cell_type": "code",
   "execution_count": 31,
   "metadata": {},
   "outputs": [
    {
     "name": "stdout",
     "output_type": "stream",
     "text": [
      "['border collie', 'labrador retriever']\n"
     ]
    }
   ],
   "source": [
    "# Eliminar un elemento de la lista (por valor)\n",
    "\n",
    "dogs = ['border collie', 'australian cattle dog', 'labrador retriever']\n",
    "\n",
    "dogs.remove('australian cattle dog')\n",
    "\n",
    "print(dogs)"
   ]
  },
  {
   "cell_type": "code",
   "execution_count": 32,
   "metadata": {},
   "outputs": [
    {
     "name": "stdout",
     "output_type": "stream",
     "text": [
      "labrador retriever\n",
      "['border collie', 'australian cattle dog']\n"
     ]
    }
   ],
   "source": [
    "# Tambien podemos imitar colas o pilas con listas y la funcion pop()\n",
    "\n",
    "dogs = ['border collie', 'australian cattle dog', 'labrador retriever']\n",
    "last_dog = dogs.pop()\n",
    "\n",
    "print(last_dog)\n",
    "print(dogs)"
   ]
  },
  {
   "cell_type": "markdown",
   "metadata": {},
   "source": [
    "Las listas pueden ser divididas utilizando los brackets y los indices de los elementos, en el siguiente ejemplo vamos a tomar una porción de la lista: a partir del indice 0 y hasta el índice 3 (sin incluirlo"
   ]
  },
  {
   "cell_type": "code",
   "execution_count": 33,
   "metadata": {},
   "outputs": [
    {
     "name": "stdout",
     "output_type": "stream",
     "text": [
      "bernice\n",
      "cody\n",
      "aaron\n"
     ]
    }
   ],
   "source": [
    "usernames = ['bernice', 'cody', 'aaron', 'ever', 'dalia']\n",
    "\n",
    "# Grab the first three users in the list.\n",
    "first_batch = usernames[0:3]\n",
    "\n",
    "for user in first_batch:\n",
    "    print(user)"
   ]
  },
  {
   "cell_type": "code",
   "execution_count": 34,
   "metadata": {},
   "outputs": [
    {
     "name": "stdout",
     "output_type": "stream",
     "text": [
      "['bernice', 'cody', 'aaron']\n"
     ]
    }
   ],
   "source": [
    "usernames = ['bernice', 'cody', 'aaron', 'ever', 'dalia']\n",
    "\n",
    "# si no indicamos indice toma desde el inicio o el final\n",
    "first_batch = usernames[:3]\n",
    "\n",
    "print(first_batch)"
   ]
  },
  {
   "cell_type": "code",
   "execution_count": 35,
   "metadata": {},
   "outputs": [
    {
     "name": "stdout",
     "output_type": "stream",
     "text": [
      "['ever', 'dalia']\n"
     ]
    }
   ],
   "source": [
    "usernames = ['bernice', 'cody', 'aaron', 'ever', 'dalia']\n",
    "\n",
    "# si no indicamos indice toma desde el inicio o el final\n",
    "last_batch = usernames[3:]\n",
    "\n",
    "print(last_batch)"
   ]
  },
  {
   "cell_type": "code",
   "execution_count": 36,
   "metadata": {},
   "outputs": [
    {
     "name": "stdout",
     "output_type": "stream",
     "text": [
      "['bernice', 'cody', 'aaron', 'ever', 'dalia']\n"
     ]
    }
   ],
   "source": [
    "# Hacer una copia de una lista\n",
    "\n",
    "usernames = ['bernice', 'cody', 'aaron', 'ever', 'dalia']\n",
    "\n",
    "copied_usernames = usernames[:]\n",
    "\n",
    "print(copied_usernames)"
   ]
  },
  {
   "cell_type": "code",
   "execution_count": 37,
   "metadata": {},
   "outputs": [
    {
     "name": "stdout",
     "output_type": "stream",
     "text": [
      "1\n",
      "2\n",
      "3\n",
      "4\n",
      "5\n"
     ]
    }
   ],
   "source": [
    "# Las listas de numeros (enteros o flotantes) funcionan exactamente igual\n",
    "\n",
    "numbers = [1, 2, 3, 4, 5, 6, 7, 8, 9, 10]\n",
    "\n",
    "for number in numbers[:5]:\n",
    "    print(number)"
   ]
  },
  {
   "cell_type": "markdown",
   "metadata": {},
   "source": [
    "Una función extremadamente útil y que probablemente vamos a usar en repetidas ocaciones es `range`. Esta es un **generador** de números números entre los límites que indiquemos asi como tambien el step."
   ]
  },
  {
   "cell_type": "code",
   "execution_count": 38,
   "metadata": {},
   "outputs": [
    {
     "name": "stdout",
     "output_type": "stream",
     "text": [
      "0\n",
      "1\n",
      "2\n",
      "3\n",
      "4\n",
      "5\n",
      "6\n",
      "7\n",
      "8\n",
      "9\n",
      "10\n",
      "\n",
      "1 2 3 4 5 6 7 8 9 10 \n",
      "1 3 5 7 9 \n",
      "[0, 1, 2, 3, 4, 5, 6, 7, 8, 9, 10]\n"
     ]
    }
   ],
   "source": [
    "for number in range(11):\n",
    "    print(number)\n",
    "\n",
    "print()\n",
    "    \n",
    "for number in range(1,11):\n",
    "    print(number, end=' ')\n",
    "\n",
    "print()\n",
    "    \n",
    "for number in range(1,11,2):\n",
    "    print(number, end=' ')\n",
    "\n",
    "print()\n",
    "    \n",
    "print(list(range(11)))"
   ]
  },
  {
   "cell_type": "markdown",
   "metadata": {},
   "source": [
    "Algunas funciones útiles para las listas:"
   ]
  },
  {
   "cell_type": "code",
   "execution_count": 39,
   "metadata": {},
   "outputs": [
    {
     "name": "stdout",
     "output_type": "stream",
     "text": [
      "Our youngest reader is 11 years old.\n",
      "Our oldest reader is 38 years old.\n",
      "Together, we have 149 years worth of life experience.\n"
     ]
    }
   ],
   "source": [
    "ages = [23, 16, 14, 28, 19, 11, 38]\n",
    "\n",
    "youngest = min(ages)\n",
    "oldest = max(ages)\n",
    "total_years = sum(ages)\n",
    "\n",
    "print(\"Our youngest reader is \" + str(youngest) + \" years old.\")\n",
    "print(\"Our oldest reader is \" + str(oldest) + \" years old.\")\n",
    "print(\"Together, we have \" + str(total_years) + \" years worth of life experience.\")"
   ]
  },
  {
   "cell_type": "markdown",
   "metadata": {},
   "source": [
    "Python tambien permite manipular los strings como 'listas', o en realidad como objetos indexables o iterables por lo tanto **la mayoría pero no todas** las funciones que se aplican a listas tambien se aplican a las cadenas de texto."
   ]
  },
  {
   "cell_type": "code",
   "execution_count": 40,
   "metadata": {},
   "outputs": [
    {
     "name": "stdout",
     "output_type": "stream",
     "text": [
      "H e l l o ! "
     ]
    }
   ],
   "source": [
    "message = \"Hello!\"\n",
    "\n",
    "for letter in message:\n",
    "    print(letter, end=' ')"
   ]
  },
  {
   "cell_type": "code",
   "execution_count": 41,
   "metadata": {},
   "outputs": [
    {
     "name": "stdout",
     "output_type": "stream",
     "text": [
      "H !\n"
     ]
    }
   ],
   "source": [
    "message = \"Hello World!\"\n",
    "first_char = message[0]\n",
    "last_char = message[-1]\n",
    "\n",
    "print(first_char, last_char)"
   ]
  },
  {
   "cell_type": "code",
   "execution_count": 42,
   "metadata": {},
   "outputs": [
    {
     "name": "stdout",
     "output_type": "stream",
     "text": [
      "Hel ld!\n"
     ]
    }
   ],
   "source": [
    "message = \"Hello World!\"\n",
    "first_three = message[:3]\n",
    "last_three = message[-3:]\n",
    "\n",
    "print(first_three, last_three)"
   ]
  },
  {
   "cell_type": "code",
   "execution_count": 43,
   "metadata": {},
   "outputs": [
    {
     "name": "stdout",
     "output_type": "stream",
     "text": [
      "True\n"
     ]
    }
   ],
   "source": [
    "message = \"I like cats and dogs.\"\n",
    "dog_present = 'dog' in message\n",
    "print(dog_present)"
   ]
  },
  {
   "cell_type": "code",
   "execution_count": 44,
   "metadata": {},
   "outputs": [
    {
     "name": "stdout",
     "output_type": "stream",
     "text": [
      "I like cats and snakes, but I'd much rather own a snake.\n"
     ]
    }
   ],
   "source": [
    "# reemplazar una subseccion de la cadena de texto\n",
    "\n",
    "message = \"I like cats and dogs, but I'd much rather own a dog.\"\n",
    "message = message.replace('dog', 'snake')\n",
    "print(message)"
   ]
  },
  {
   "cell_type": "code",
   "execution_count": 45,
   "metadata": {},
   "outputs": [
    {
     "name": "stdout",
     "output_type": "stream",
     "text": [
      "2\n"
     ]
    }
   ],
   "source": [
    "# Contar el numero de apariciones de una palabra o letra\n",
    "\n",
    "message = \"I like cats and dogs, but I'd much rather own a dog.\"\n",
    "number_dogs = message.count('dog')\n",
    "print(number_dogs)"
   ]
  },
  {
   "cell_type": "code",
   "execution_count": 46,
   "metadata": {},
   "outputs": [
    {
     "name": "stdout",
     "output_type": "stream",
     "text": [
      "['I', 'like', 'cats', 'and', 'dogs,', 'but', \"I'd\", 'much', 'rather', 'own', 'a', 'dog.']\n"
     ]
    }
   ],
   "source": [
    "# Dividir cadenas de texto con un caracter o delimitador\n",
    "\n",
    "message = \"I like cats and dogs, but I'd much rather own a dog.\"\n",
    "words = message.split(' ')\n",
    "print(words)"
   ]
  },
  {
   "cell_type": "code",
   "execution_count": 47,
   "metadata": {},
   "outputs": [
    {
     "name": "stdout",
     "output_type": "stream",
     "text": [
      "I like cats and dogs, but I'd much rather own a dog.\n"
     ]
    }
   ],
   "source": [
    "# Tambien podemos convertir una lista a cadena de texto usando join\n",
    "\n",
    "print(' '.join(words))"
   ]
  },
  {
   "cell_type": "markdown",
   "metadata": {},
   "source": [
    "### Tuplas"
   ]
  },
  {
   "cell_type": "markdown",
   "metadata": {},
   "source": [
    "Las tuplas son muy similares a las listas con la principal diferencia de que las Tuplas no se pueden modificar, es decir son constantes"
   ]
  },
  {
   "cell_type": "code",
   "execution_count": 48,
   "metadata": {},
   "outputs": [
    {
     "name": "stdout",
     "output_type": "stream",
     "text": [
      "The first color is: red\n",
      "\n",
      "The available colors are:\n",
      "- red\n",
      "- green\n",
      "- blue\n",
      "Number of colors: 3\n"
     ]
    }
   ],
   "source": [
    "colors = ('red', 'green', 'blue')\n",
    "print(\"The first color is: \" + colors[0])\n",
    "\n",
    "print(\"\\nThe available colors are:\")\n",
    "for color in colors:\n",
    "    print(\"- \" + color)\n",
    "    \n",
    "print(\"Number of colors:\", len(colors))"
   ]
  },
  {
   "cell_type": "markdown",
   "metadata": {},
   "source": [
    "## Condicionales"
   ]
  },
  {
   "cell_type": "markdown",
   "metadata": {},
   "source": [
    "¿Cómo tomar una decisión ante una determinada situación? Los condicionales funcionan para ejecutar codigo si se cumple una determinada condición. Por ejemplo "
   ]
  },
  {
   "cell_type": "code",
   "execution_count": 49,
   "metadata": {},
   "outputs": [
    {
     "name": "stdout",
     "output_type": "stream",
     "text": [
      "I like ice cream.\n",
      "I like chocolate.\n",
      "Apple Crisp is my favorite dessert!\n",
      "I like cookies.\n"
     ]
    }
   ],
   "source": [
    "# A list of desserts I like.\n",
    "desserts = ['ice cream', 'chocolate', 'apple crisp', 'cookies']\n",
    "favorite_dessert = 'apple crisp'\n",
    "\n",
    "# Print the desserts out, but let everyone know my favorite dessert.\n",
    "for dessert in desserts:\n",
    "    if dessert == favorite_dessert:\n",
    "        # This dessert is my favorite, let's let everyone know!\n",
    "        print(\"%s is my favorite dessert!\" % dessert.title())\n",
    "    else:\n",
    "        # I like these desserts, but they are not my favorite.\n",
    "        print(\"I like %s.\" % dessert)"
   ]
  },
  {
   "cell_type": "markdown",
   "metadata": {},
   "source": [
    "Para que una condición sea verdadera o falsa debemos evaluar valores o variables usando los operadores lógicos o comparadores"
   ]
  },
  {
   "cell_type": "code",
   "execution_count": 50,
   "metadata": {},
   "outputs": [
    {
     "name": "stdout",
     "output_type": "stream",
     "text": [
      "5 == 5 True\n",
      "3 == 5  False\n",
      "5 == 5.0 True\n",
      "'eric' == 'eric' True\n",
      "'Eric' == 'eric' False\n",
      "'Eric'.lower() == 'eric'.lower() True\n",
      "'5' == 5 False\n",
      "'5' == str(5) True\n"
     ]
    }
   ],
   "source": [
    "# Igualdad\n",
    "\n",
    "print(\"5 == 5\", 5 == 5)\n",
    "print(\"3 == 5 \", 3 == 5 )\n",
    "print(\"5 == 5.0\", 5 == 5.0)\n",
    "print(\"'eric' == 'eric'\", 'eric' == 'eric')\n",
    "print(\"'Eric' == 'eric'\", 'Eric' == 'eric')\n",
    "print(\"'Eric'.lower() == 'eric'.lower()\", 'Eric'.lower() == 'eric'.lower())\n",
    "print(\"'5' == 5\", '5' == 5)\n",
    "print(\"'5' == str(5)\", '5' == str(5))\n"
   ]
  },
  {
   "cell_type": "code",
   "execution_count": 51,
   "metadata": {},
   "outputs": [
    {
     "name": "stdout",
     "output_type": "stream",
     "text": [
      "3 != 5 True\n",
      "5 != 5 False\n",
      "'Eric' != 'eric' True\n"
     ]
    }
   ],
   "source": [
    "# Desigualdad\n",
    "\n",
    "print(\"3 != 5\", 3 != 5)\n",
    "print(\"5 != 5\", 5 != 5)\n",
    "print(\"'Eric' != 'eric'\", 'Eric' != 'eric')"
   ]
  },
  {
   "cell_type": "code",
   "execution_count": 52,
   "metadata": {},
   "outputs": [
    {
     "name": "stdout",
     "output_type": "stream",
     "text": [
      "5 > 3 True\n",
      "5 >= 3 True\n",
      "3 >= 3 True\n",
      "3 < 5 True\n",
      "3 <= 5 True\n",
      "3 <= 3 True\n"
     ]
    }
   ],
   "source": [
    "# Otras comparaciones\n",
    "\n",
    "# Mayor que\n",
    "print(\"5 > 3\", 5 > 3)\n",
    "# Mayor o igual que\n",
    "print(\"5 >= 3\", 5 >= 3)\n",
    "print(\"3 >= 3\", 3 >= 3)\n",
    "# Menor que\n",
    "print(\"3 < 5\", 3 < 5)\n",
    "# Menor o igual que\n",
    "print(\"3 <= 5\", 3 <= 5)\n",
    "print(\"3 <= 3\", 3 <= 3)"
   ]
  },
  {
   "cell_type": "markdown",
   "metadata": {},
   "source": [
    "Tambien podemos obtener un booleano (`True` o `False`) a partir de la palabra reservada `in`"
   ]
  },
  {
   "cell_type": "code",
   "execution_count": 53,
   "metadata": {},
   "outputs": [
    {
     "name": "stdout",
     "output_type": "stream",
     "text": [
      "'a' in vowels True\n",
      "'b' in vowels False\n"
     ]
    }
   ],
   "source": [
    "vowels = ['a', 'e', 'i', 'o', 'u']\n",
    "print(\"'a' in vowels\", 'a' in vowels)\n",
    "\n",
    "vowels = ['a', 'e', 'i', 'o', 'u']\n",
    "print(\"'b' in vowels\", 'b' in vowels)"
   ]
  },
  {
   "cell_type": "markdown",
   "metadata": {},
   "source": [
    "Los condicionales no solamente se limitan a una condición:"
   ]
  },
  {
   "cell_type": "code",
   "execution_count": 54,
   "metadata": {},
   "outputs": [
    {
     "name": "stdout",
     "output_type": "stream",
     "text": [
      "Wow, we have a lot of dogs here!\n"
     ]
    }
   ],
   "source": [
    "dogs = ['willie', 'hootz', 'peso', 'juno']\n",
    "\n",
    "if len(dogs) > 3:\n",
    "    print(\"Wow, we have a lot of dogs here!\")\n",
    "    \n",
    "if len(dogs) < 3:\n",
    "    print(\"We don't have dogs here!\")"
   ]
  },
  {
   "cell_type": "code",
   "execution_count": 55,
   "metadata": {},
   "outputs": [
    {
     "name": "stdout",
     "output_type": "stream",
     "text": [
      "Wow, we have a lot of dogs here!\n"
     ]
    }
   ],
   "source": [
    "dogs = ['willie', 'hootz', 'peso', 'juno']\n",
    "\n",
    "if len(dogs) > 3:\n",
    "    print(\"Wow, we have a lot of dogs here!\")\n",
    "else:\n",
    "    print(\"We don't have dogs here!\")"
   ]
  },
  {
   "cell_type": "markdown",
   "metadata": {},
   "source": [
    "En algunas ocaciones vamos a necesitar revisar mas de una condición en estos casos podemos usar la palabra `elif` cualquier cantidad de veces. Así mismo con los operadores `and` y `or` podemos revisar mas de una condición dentro del mismo condicional."
   ]
  },
  {
   "cell_type": "code",
   "execution_count": 56,
   "metadata": {},
   "outputs": [
    {
     "name": "stdout",
     "output_type": "stream",
     "text": [
      "Holy mackerel, we might as well start a dog hostel!\n"
     ]
    }
   ],
   "source": [
    "dogs = ['willie', 'hootz', 'peso', 'monty', 'juno', 'turkey']\n",
    "\n",
    "if len(dogs) >= 5 :\n",
    "    print(\"Holy mackerel, we might as well start a dog hostel!\")\n",
    "elif len(dogs) >= 3:\n",
    "    print(\"Wow, we have a lot of dogs here!\")\n",
    "elif len(dogs) >= 1:\n",
    "    print(\"Okay, this is a reasonable number of dogs.\")\n",
    "else:\n",
    "    print(\"I wish we had a dog here.\")"
   ]
  },
  {
   "cell_type": "markdown",
   "metadata": {},
   "source": [
    "Los numeros también pueden convertirse a condiciones donde 0 es False y el resto son True"
   ]
  },
  {
   "cell_type": "code",
   "execution_count": 57,
   "metadata": {},
   "outputs": [
    {
     "name": "stdout",
     "output_type": "stream",
     "text": [
      "This evaluates to False.\n",
      "This evaluates to True.\n"
     ]
    }
   ],
   "source": [
    "if 0:\n",
    "    print(\"This evaluates to True.\")\n",
    "else:\n",
    "    print(\"This evaluates to False.\")\n",
    "    \n",
    "\n",
    "if 1:\n",
    "    print(\"This evaluates to True.\")\n",
    "else:\n",
    "    print(\"This evaluates to False.\")"
   ]
  },
  {
   "cell_type": "markdown",
   "metadata": {},
   "source": [
    "## Bucles o el ciclo While"
   ]
  },
  {
   "cell_type": "markdown",
   "metadata": {},
   "source": [
    "Un bucle es un segmento de código que se repite mientras se cumpla una determinada condición. En el caso del ciclo `while`, el código se ejecuta siempre y cuando la condición sea verdadera.\n",
    "\n",
    "```python\n",
    "# Set an initial condition.\n",
    "game_active = True\n",
    "\n",
    "# Set up the while loop.\n",
    "while game_active:\n",
    "    # Run the game.\n",
    "    # At some point, the game ends and game_active will be set to False.\n",
    "    #   When that happens, the loop will stop executing.\n",
    "    \n",
    "# Do anything else you want done after the loop runs.\n",
    "```\n"
   ]
  },
  {
   "cell_type": "code",
   "execution_count": 58,
   "metadata": {},
   "outputs": [
    {
     "name": "stdout",
     "output_type": "stream",
     "text": [
      "You are still playing, because your power is 5.\n",
      "You are still playing, because your power is 4.\n",
      "You are still playing, because your power is 3.\n",
      "You are still playing, because your power is 2.\n",
      "You are still playing, because your power is 1.\n",
      "\n",
      "Oh no, your power dropped to 0! Game Over.\n"
     ]
    }
   ],
   "source": [
    "# The player's power starts out at 5.\n",
    "power = 5\n",
    "\n",
    "# The player is allowed to keep playing as long as their power is over 0.\n",
    "while power > 0:\n",
    "    print(\"You are still playing, because your power is %d.\" % power)\n",
    "    # Your game code would go here, which includes challenges that make it\n",
    "    #   possible to lose power.\n",
    "    # We can represent that by just taking away from the power.\n",
    "    power = power - 1\n",
    "    \n",
    "print(\"\\nOh no, your power dropped to 0! Game Over.\")"
   ]
  },
  {
   "cell_type": "markdown",
   "metadata": {},
   "source": [
    "Además de la función `print()` para mostrar información en la pantalla, python tambien tiene una funcion llamada `input()` para que el usuario pueda ingresar datos al programa."
   ]
  },
  {
   "cell_type": "code",
   "execution_count": 59,
   "metadata": {},
   "outputs": [
    {
     "name": "stdout",
     "output_type": "stream",
     "text": [
      "Please tell me someone I should know: humberto\n",
      "['guido', 'tim', 'jesse', 'humberto']\n"
     ]
    }
   ],
   "source": [
    "# Start with a list containing several names.\n",
    "names = ['guido', 'tim', 'jesse']\n",
    "\n",
    "# Ask the user for a name.\n",
    "new_name = input(\"Please tell me someone I should know: \")\n",
    "\n",
    "# Add the new name to our list.\n",
    "names.append(new_name)\n",
    "\n",
    "# Show that the name has been added to the list.\n",
    "print(names)"
   ]
  },
  {
   "cell_type": "markdown",
   "metadata": {},
   "source": [
    "En cualquier que lo necesitemos, podemos escapar de un ciclo usando el comando `break`, por ejemplo: un uso muy comun del ciclo `while`"
   ]
  },
  {
   "cell_type": "markdown",
   "metadata": {},
   "source": [
    "**¡Atención!** Si no se actualiza la condición del `while` o no se usa ninguna comparación, el bucle puede quedarse atrapado para siempre.\n",
    "\n",
    "```python\n",
    "while True\n",
    "    print(\"Peligro!\")\n",
    "```\n"
   ]
  }
 ],
 "metadata": {
  "kernelspec": {
   "display_name": "Python 3",
   "language": "python",
   "name": "python3"
  },
  "language_info": {
   "codemirror_mode": {
    "name": "ipython",
    "version": 3
   },
   "file_extension": ".py",
   "mimetype": "text/x-python",
   "name": "python",
   "nbconvert_exporter": "python",
   "pygments_lexer": "ipython3",
   "version": "3.8.5"
  }
 },
 "nbformat": 4,
 "nbformat_minor": 5
}
